{
 "cells": [
  {
   "cell_type": "code",
   "execution_count": 35,
   "id": "a4d77ea1-4c99-499e-8649-009d3bfdc51c",
   "metadata": {},
   "outputs": [],
   "source": [
    "import os\n",
    "import pandas as pd"
   ]
  },
  {
   "cell_type": "code",
   "execution_count": 36,
   "id": "67c29e69-a128-426b-8f6a-e3c8aeb6df64",
   "metadata": {},
   "outputs": [],
   "source": [
    "directorio = \"C:\\\\Users\\\\Santiago\\\\Desktop\\\\2024\\\\1er cuatri\\\\Big Data\\\\Big-Data-TP3\\\\EPH_usu_4to_Trim_2023_xlsx\\\\usu_hogar_T423.xlsx\"\n",
    "archivo_excel= 'usu_hogar_T423.xlsx'"
   ]
  },
  {
   "cell_type": "code",
   "execution_count": 37,
   "id": "9e5f2ac7-dbae-4fc5-afb9-f95ffbc5ac66",
   "metadata": {},
   "outputs": [
    {
     "name": "stdout",
     "output_type": "stream",
     "text": [
      "Cantidad de personas que no respondieron cuál es su ingreso total familiar (ITF): 3831\n"
     ]
    }
   ],
   "source": [
    "#1.3 \n",
    "\n",
    "# Especifica la ruta completa al archivo si no está en el mismo directorio\n",
    "file_path = 'C:\\\\Users\\\\Santiago\\\\Desktop\\\\2024\\\\1er cuatri\\\\Big Data\\\\Big-Data-TP3\\\\EPH_usu_4to_Trim_2023_xlsx\\\\usu_hogar_T423.xlsx'\n",
    "\n",
    "# Leer el archivo Excel\n",
    "df = pd.read_excel(file_path)\n",
    "\n",
    "# Supongamos que la columna de Ingreso Total Familiar se llama 'ITF'\n",
    "# Ajusta el nombre de la columna si es diferente\n",
    "itf_column = 'ITF'\n",
    "\n",
    "# Filtrar las observaciones donde se reportó el ITF\n",
    "respondieron = df[df[itf_column] != 0]\n",
    "\n",
    "# Filtrar las observaciones donde el ITF es 0\n",
    "no_respondieron = df[df[itf_column] == 0]\n",
    "\n",
    "# Guardar los conjuntos de datos en archivos separados\n",
    "respondieron.to_excel('respondieron.xlsx', index=False)\n",
    "no_respondieron.to_excel('norespondieron.xlsx', index=False)\n",
    "\n",
    "# Contar las personas que no respondieron sobre su ITF\n",
    "personas_no_respondieron = no_respondieron.shape[0]\n",
    "\n",
    "print(f'Cantidad de personas que no respondieron cuál es su ingreso total familiar (ITF): {personas_no_respondieron}')\n",
    "\n"
   ]
  },
  {
   "cell_type": "code",
   "execution_count": 42,
   "id": "b64988c2-0390-4a20-a24d-7f05fba9c808",
   "metadata": {},
   "outputs": [
    {
     "ename": "NameError",
     "evalue": "name 'ad_equiv_por_hogar' is not defined",
     "output_type": "error",
     "traceback": [
      "\u001b[1;31m---------------------------------------------------------------------------\u001b[0m",
      "\u001b[1;31mNameError\u001b[0m                                 Traceback (most recent call last)",
      "Cell \u001b[1;32mIn[42], line 15\u001b[0m\n\u001b[0;32m      8\u001b[0m canasta_basica_total \u001b[38;5;241m=\u001b[39m \u001b[38;5;241m132853.3\u001b[39m\n\u001b[0;32m     10\u001b[0m \u001b[38;5;66;03m# Supongamos que cada hogar tiene en promedio 2 adultos equivalentes\u001b[39;00m\n\u001b[0;32m     11\u001b[0m \u001b[38;5;66;03m# Puedes ajustar este valor según la estructura demográfica de los hogares en tus datos\u001b[39;00m\n\u001b[0;32m     12\u001b[0m \u001b[38;5;66;03m#adultos_equiv_por_hogar = 2\u001b[39;00m\n\u001b[0;32m     13\u001b[0m \n\u001b[0;32m     14\u001b[0m \u001b[38;5;66;03m# Calcular el ingreso necesario\u001b[39;00m\n\u001b[1;32m---> 15\u001b[0m df[\u001b[38;5;124m'\u001b[39m\u001b[38;5;124mingreso_necesario\u001b[39m\u001b[38;5;124m'\u001b[39m] \u001b[38;5;241m=\u001b[39m canasta_basica_total \u001b[38;5;241m*\u001b[39m ad_equiv_por_hogar\n\u001b[0;32m     17\u001b[0m \u001b[38;5;66;03m# Guardar el DataFrame actualizado en un nuevo archivo Excel\u001b[39;00m\n\u001b[0;32m     18\u001b[0m output_file \u001b[38;5;241m=\u001b[39m \u001b[38;5;124m'\u001b[39m\u001b[38;5;124mrespondieron_con_ingreso_necesario.xlsx\u001b[39m\u001b[38;5;124m'\u001b[39m\n",
      "\u001b[1;31mNameError\u001b[0m: name 'ad_equiv_por_hogar' is not defined"
     ]
    }
   ],
   "source": [
    "#1.4\n",
    "\n",
    "# Leer el archivo Excel donde están los datos filtrados\n",
    "file_path = 'respondieron.xlsx'\n",
    "df = pd.read_excel(file_path)\n",
    "\n",
    "# Supongamos que Canasta Básica Total para un adulto equivalente es de $132.853,3 (según lo indicado)\n",
    "canasta_basica_total = 132853.3\n",
    "\n",
    "# Supongamos que cada hogar tiene en promedio 2 adultos equivalentes\n",
    "# Puedes ajustar este valor según la estructura demográfica de los hogares en tus datos\n",
    "\n",
    "# Calcular el ingreso necesario\n",
    "df['ingreso_necesario'] = canasta_basica_total * ad_equiv_por_hogar\n",
    "\n",
    "# Guardar el DataFrame actualizado en un nuevo archivo Excel\n",
    "output_file = 'respondieron_con_ingreso_necesario.xlsx'\n",
    "df.to_excel(output_file, index=False)\n",
    "\n",
    "# Mostrar un mensaje de confirmación\n",
    "print(f'Se ha guardado el archivo \"{output_file}\" con la columna \"ingreso_necesario\" agregada.')\n",
    "\n"
   ]
  },
  {
   "cell_type": "code",
   "execution_count": 40,
   "id": "e0eacbd8-031e-4b11-b038-62862841eb7d",
   "metadata": {},
   "outputs": [
    {
     "name": "stdout",
     "output_type": "stream",
     "text": [
      "Se ha actualizado el archivo \"respondieron_con_ingreso_necesario.xlsx\" agregando la columna \"pobre\".\n",
      "Se identificaron 5078 pobres.\n"
     ]
    }
   ],
   "source": [
    "#1.5\n",
    "\n",
    "# Leer el archivo Excel donde están los datos filtrados\n",
    "file_path = 'respondieron_con_ingreso_necesario.xlsx'\n",
    "df = pd.read_excel(file_path)\n",
    "\n",
    "# Verificar que las columnas 'ITF' e 'ingreso_necesario' existan en el DataFrame\n",
    "if 'ITF' in df.columns and 'ingreso_necesario' in df.columns:\n",
    "    # Agregar la columna 'pobre'\n",
    "    df['pobre'] = (df['ITF'] < df['ingreso_necesario']).astype(int)\n",
    "    \n",
    "    # Contar cuántos son identificados como pobres\n",
    "    pobres_identificados = df['pobre'].sum()\n",
    "    \n",
    "    # Guardar el DataFrame actualizado en el mismo archivo Excel\n",
    "    df.to_excel(file_path, index=False)\n",
    "    \n",
    "    # Mostrar un mensaje con la cantidad de pobres identificados\n",
    "    print(f'Se ha actualizado el archivo \"{file_path}\" agregando la columna \"pobre\".')\n",
    "    print(f'Se identificaron {pobres_identificados} pobres.')\n",
    "else:\n",
    "    print(\"No se encontraron las columnas 'ITF' e 'ingreso_necesario' en el DataFrame.\")\n"
   ]
  },
  {
   "cell_type": "code",
   "execution_count": null,
   "id": "1bb5271c-38e2-419d-b4e7-091f3eebeee3",
   "metadata": {},
   "outputs": [],
   "source": []
  }
 ],
 "metadata": {
  "kernelspec": {
   "display_name": "Python 3 (ipykernel)",
   "language": "python",
   "name": "python3"
  },
  "language_info": {
   "codemirror_mode": {
    "name": "ipython",
    "version": 3
   },
   "file_extension": ".py",
   "mimetype": "text/x-python",
   "name": "python",
   "nbconvert_exporter": "python",
   "pygments_lexer": "ipython3",
   "version": "3.11.7"
  }
 },
 "nbformat": 4,
 "nbformat_minor": 5
}
